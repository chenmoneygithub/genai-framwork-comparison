{
  "nbformat": 4,
  "nbformat_minor": 0,
  "metadata": {
    "colab": {
      "provenance": []
    },
    "kernelspec": {
      "name": "python3",
      "display_name": "Python 3"
    },
    "language_info": {
      "name": "python"
    }
  },
  "cells": [
    {
      "cell_type": "code",
      "execution_count": null,
      "metadata": {
        "id": "_76hXygPXCp5"
      },
      "outputs": [],
      "source": [
        "%pip install -qU langchain-community langgraph langchain-openai langchain-anthropic"
      ]
    },
    {
      "cell_type": "code",
      "source": [
        "import getpass\n",
        "import os\n",
        "\n",
        "os.environ[\"LANGSMITH_TRACING\"] = \"true\"\n",
        "os.environ[\"LANGSMITH_API_KEY\"] = \"{your_langsmith_api_key}\"\n",
        "os.environ[\"OPENAI_API_KEY\"] = \"{your_openai_api_key}\"\n",
        "os.environ[\"ANTHROPIC_API_KEY\"] = \"{your_anthropic_api_key}\""
      ],
      "metadata": {
        "id": "_w1By0osX7nt"
      },
      "execution_count": 40,
      "outputs": []
    },
    {
      "cell_type": "markdown",
      "source": [
        "## Quickstart - Single Dummy Tool Case"
      ],
      "metadata": {
        "id": "RPhvkDacpBOZ"
      }
    },
    {
      "cell_type": "code",
      "source": [
        "# Import relevant functionality\n",
        "from langchain_openai import ChatOpenAI\n",
        "from langchain_anthropic import ChatAnthropic\n",
        "from langchain_core.messages import HumanMessage\n",
        "from langgraph.prebuilt import create_react_agent\n",
        "from langchain_core.tools import tool\n",
        "from langgraph.checkpoint.memory import MemorySaver\n",
        "\n",
        "# Create the agent\n",
        "openai_model = ChatOpenAI(model_name=\"gpt-4o-mini\")\n",
        "anthropic_model = ChatAnthropic(model_name=\"claude-3-5-haiku-latest\")"
      ],
      "metadata": {
        "id": "mDR9LBl7YQOx"
      },
      "execution_count": 43,
      "outputs": []
    },
    {
      "cell_type": "code",
      "source": [
        "messages = [\n",
        "    (\n",
        "        \"system\",\n",
        "        \"You are a helpful translator. Translate the user sentence to French.\",\n",
        "    ),\n",
        "    (\"human\", \"I love programming.\"),\n",
        "]\n",
        "anthropic_model.invoke(messages)"
      ],
      "metadata": {
        "colab": {
          "base_uri": "https://localhost:8080/"
        },
        "id": "l7DxoQ9nZXFu",
        "outputId": "71072824-dabd-4ece-aa4e-3c33902c56aa"
      },
      "execution_count": 44,
      "outputs": [
        {
          "output_type": "execute_result",
          "data": {
            "text/plain": [
              "AIMessage(content=\"J'adore la programmation.\", additional_kwargs={}, response_metadata={'id': 'msg_01RueTQXfZ2xjqtJDH7nW89W', 'model': 'claude-3-5-haiku-20241022', 'stop_reason': 'end_turn', 'stop_sequence': None, 'usage': {'cache_creation_input_tokens': 0, 'cache_read_input_tokens': 0, 'input_tokens': 25, 'output_tokens': 11, 'server_tool_use': None}, 'model_name': 'claude-3-5-haiku-20241022'}, id='run--1c34a26a-e70d-4864-b6de-b19fbc7bef07-0', usage_metadata={'input_tokens': 25, 'output_tokens': 11, 'total_tokens': 36, 'input_token_details': {'cache_read': 0, 'cache_creation': 0}})"
            ]
          },
          "metadata": {},
          "execution_count": 44
        }
      ]
    },
    {
      "cell_type": "code",
      "source": [
        "@tool\n",
        "def get_weather(city: str) -> int:\n",
        "    \"\"\"Get weather of the city.\"\"\"\n",
        "    return f\"Weather of {city} is sunny\"\n",
        "\n",
        "\n",
        "tools = [get_weather]"
      ],
      "metadata": {
        "id": "ac-rpc7mcUC8"
      },
      "execution_count": 23,
      "outputs": []
    },
    {
      "cell_type": "code",
      "source": [
        "memory = MemorySaver()\n",
        "system_message = \"You are a helpful assistant.\"\n",
        "\n",
        "agent_executor = create_react_agent(openai_model, tools, prompt=system_message, checkpointer=memory)"
      ],
      "metadata": {
        "id": "gHN7nhK3ZVj3"
      },
      "execution_count": 24,
      "outputs": []
    },
    {
      "cell_type": "code",
      "source": [
        "config = {\"configurable\": {\"thread_id\": \"test-thread\"}} # Need explanation on this"
      ],
      "metadata": {
        "id": "LAGYcigQc0vo"
      },
      "execution_count": 25,
      "outputs": []
    },
    {
      "cell_type": "code",
      "source": [
        "agent_output = agent_executor.invoke(\n",
        "    {\n",
        "        \"messages\": [\n",
        "            (\"user\", \"What's the weather of Paris\")\n",
        "        ]\n",
        "    },\n",
        "    config,\n",
        ")\n",
        "print(agent_output)"
      ],
      "metadata": {
        "id": "ZnHSJ3WRc_ET"
      },
      "execution_count": 26,
      "outputs": []
    },
    {
      "cell_type": "markdown",
      "source": [
        "## Build Airline Service Agent"
      ],
      "metadata": {
        "id": "M8ZmayeupFII"
      }
    },
    {
      "cell_type": "code",
      "source": [
        "from pydantic import BaseModel\n",
        "\n",
        "class Date(BaseModel):\n",
        "    # Somehow LLM is bad at specifying `datetime.datetime`\n",
        "    year: int\n",
        "    month: int\n",
        "    day: int\n",
        "    hour: int\n",
        "\n",
        "class UserProfile(BaseModel):\n",
        "    user_id: str\n",
        "    name: str\n",
        "    email: str\n",
        "\n",
        "class Flight(BaseModel):\n",
        "    flight_id: str\n",
        "    date_time: Date\n",
        "    origin: str\n",
        "    destination: str\n",
        "    duration: float\n",
        "    price: float\n",
        "\n",
        "class Itinerary(BaseModel):\n",
        "    confirmation_number: str\n",
        "    user_profile: UserProfile\n",
        "    flight: Flight\n",
        "\n",
        "class Ticket(BaseModel):\n",
        "    user_request: str\n",
        "    user_profile: UserProfile"
      ],
      "metadata": {
        "id": "QtALOQfSpEws"
      },
      "execution_count": 28,
      "outputs": []
    },
    {
      "cell_type": "code",
      "source": [
        "user_database = {\n",
        "    \"Adam\": UserProfile(user_id=\"1\", name=\"Adam\", email=\"adam@gmail.com\"),\n",
        "    \"Bob\": UserProfile(user_id=\"2\", name=\"Bob\", email=\"bob@gmail.com\"),\n",
        "    \"Chelsie\": UserProfile(user_id=\"3\", name=\"Chelsie\", email=\"chelsie@gmail.com\"),\n",
        "    \"David\": UserProfile(user_id=\"4\", name=\"David\", email=\"david@gmail.com\"),\n",
        "}\n",
        "\n",
        "flight_database = {\n",
        "    \"DA123\": Flight(\n",
        "        flight_id=\"DA123\",\n",
        "        origin=\"SFO\",\n",
        "        destination=\"JFK\",\n",
        "        date_time=Date(year=2025, month=9, day=1, hour=1),\n",
        "        duration=3,\n",
        "        price=200,\n",
        "    ),\n",
        "    \"DA125\": Flight(\n",
        "        flight_id=\"DA125\",\n",
        "        origin=\"SFO\",\n",
        "        destination=\"JFK\",\n",
        "        date_time=Date(year=2025, month=9, day=1, hour=7),\n",
        "        duration=9,\n",
        "        price=500,\n",
        "    ),\n",
        "    \"DA456\": Flight(\n",
        "        flight_id=\"DA456\",\n",
        "        origin=\"SFO\",\n",
        "        destination=\"SNA\",\n",
        "        date_time=Date(year=2025, month=10, day=1, hour=1),\n",
        "        duration=2,\n",
        "        price=100,\n",
        "    ),\n",
        "    \"DA460\": Flight(\n",
        "        flight_id=\"DA460\",\n",
        "        origin=\"SFO\",\n",
        "        destination=\"SNA\",\n",
        "        date_time=Date(year=2025, month=10, day=1, hour=9),\n",
        "        duration=2,\n",
        "        price=120,\n",
        "    ),\n",
        "}\n",
        "\n",
        "itinery_database = {}\n",
        "ticket_database = {}"
      ],
      "metadata": {
        "id": "SHal2G9olX8L"
      },
      "execution_count": 29,
      "outputs": []
    },
    {
      "cell_type": "code",
      "source": [
        "import random\n",
        "import string\n",
        "\n",
        "@tool\n",
        "def fetch_flight_info(date: Date, origin: str, destination: str):\n",
        "    \"\"\"Fetch flight information from origin to destination on the given date\"\"\"\n",
        "    flights = []\n",
        "\n",
        "    for flight_id, flight in flight_database.items():\n",
        "        if (\n",
        "            flight.date_time.year == date.year\n",
        "            and flight.date_time.month == date.month\n",
        "            and flight.date_time.day == date.day\n",
        "            and flight.origin == origin\n",
        "            and flight.destination == destination\n",
        "        ):\n",
        "            flights.append(flight)\n",
        "    return flights\n",
        "\n",
        "\n",
        "@tool\n",
        "def fetch_itinerary(confirmation_number: str):\n",
        "    \"\"\"Fetch a booked itinerary information from database\"\"\"\n",
        "    return itinery_database.get(confirmation_number)\n",
        "\n",
        "\n",
        "@tool\n",
        "def pick_flight(flights: list[Flight]):\n",
        "    \"\"\"Pick up the best flight that matches users' request.\"\"\"\n",
        "    sorted_flights = sorted(\n",
        "        flights,\n",
        "        key=lambda x: (\n",
        "            x.get(\"duration\") if isinstance(x, dict) else x.duration,\n",
        "            x.get(\"price\") if isinstance(x, dict) else x.price,\n",
        "        ),\n",
        "    )\n",
        "    return sorted_flights[0]\n",
        "\n",
        "\n",
        "def _generate_id(length=8):\n",
        "    chars = string.ascii_lowercase + string.digits\n",
        "    return \"\".join(random.choices(chars, k=length))\n",
        "\n",
        "\n",
        "@tool\n",
        "def book_itinerary(flight: Flight, user_profile: UserProfile):\n",
        "    \"\"\"Book a flight on behalf of the user.\"\"\"\n",
        "    confirmation_number = _generate_id()\n",
        "    while confirmation_number in itinery_database:\n",
        "        confirmation_number = _generate_id()\n",
        "    itinery_database[confirmation_number] = Itinerary(\n",
        "        confirmation_number=confirmation_number,\n",
        "        user_profile=user_profile,\n",
        "        flight=flight,\n",
        "    )\n",
        "    return confirmation_number, itinery_database[confirmation_number]\n",
        "\n",
        "\n",
        "@tool\n",
        "def cancel_itinerary(confirmation_number: str, user_profile: UserProfile):\n",
        "    \"\"\"Cancel an itinerary on behalf of the user.\"\"\"\n",
        "    if confirmation_number in itinery_database:\n",
        "        del itinery_database[confirmation_number]\n",
        "        return\n",
        "    raise ValueError(\"Cannot find the itinerary, please check your confirmation number.\")\n",
        "\n",
        "\n",
        "@tool\n",
        "def get_user_info(name: str):\n",
        "    \"\"\"Fetch the user profile from database with given name.\"\"\"\n",
        "    return user_database.get(name)\n",
        "\n",
        "\n",
        "@tool\n",
        "def file_ticket(user_request: str, user_profile: UserProfile):\n",
        "    \"\"\"File a customer support ticket if this is something the agent cannot handle.\"\"\"\n",
        "    ticket_id = _generate_id(length=6)\n",
        "    ticket_database[ticket_id] = Ticket(\n",
        "        user_request=user_request,\n",
        "        user_profile=user_profile,\n",
        "    )\n",
        "    return ticket_id\n"
      ],
      "metadata": {
        "id": "oCJLWZd9pLXx"
      },
      "execution_count": 30,
      "outputs": []
    },
    {
      "cell_type": "code",
      "source": [
        "AIRLINE_AGENT_SYSTEM_MESSAGE = \"\"\"\n",
        "You are an AI customer service agent for Awesome airline, an airline company that runs flights across the globe. Your\n",
        "job is to help users book flights and manage iternerary, including canceling and modifying. When the user request cannot\n",
        "be resolved, make sure you raise a custom support ticket. For the message you return to the user, please include the\n",
        "confirmation number if a flight is booked, an a custom support ticket number if a ticket is raised. On other scenarios,\n",
        "please also make sure that all information users need is included.\n",
        "\n",
        "Your core principles for interacting with users are:\n",
        "\n",
        "*   **Customer-centricity:** Every interaction should be focused on meeting the customer's needs and resolving their issues.\n",
        "*   **Accuracy:** Ensure all information provided is factually correct and up-to-date, referencing provided tools whenever possible.\n",
        "*   **Efficiency:** Aim to resolve customer issues quickly and effectively, minimizing the need for escalation.\n",
        "*   **Professionalism:** Maintain a courteous and professional tone throughout the conversation.\n",
        "*   **Empathy:** Acknowledge the customer's frustration and show understanding when appropriate.\n",
        "\"\"\""
      ],
      "metadata": {
        "id": "klzQqAa5pu66"
      },
      "execution_count": 33,
      "outputs": []
    },
    {
      "cell_type": "code",
      "source": [
        "memory = MemorySaver()\n",
        "\n",
        "tools = [\n",
        "    fetch_flight_info,\n",
        "    fetch_itinerary,\n",
        "    pick_flight,\n",
        "    book_itinerary,\n",
        "    cancel_itinerary,\n",
        "    get_user_info,\n",
        "    file_ticket,\n",
        "]\n",
        "\n",
        "agent_executor = create_react_agent(\n",
        "    model=anthropic_model,\n",
        "    tools=tools,\n",
        "    prompt=AIRLINE_AGENT_SYSTEM_MESSAGE,\n",
        "    checkpointer=memory,\n",
        ")"
      ],
      "metadata": {
        "id": "Eiy8GABnpauL"
      },
      "execution_count": 45,
      "outputs": []
    },
    {
      "cell_type": "code",
      "source": [
        "config = {\"configurable\": {\"thread_id\": \"test-thread\"}} # Need explanation on this"
      ],
      "metadata": {
        "id": "ZGD3kzixut23"
      },
      "execution_count": 46,
      "outputs": []
    },
    {
      "cell_type": "code",
      "source": [
        "# It has automatic cache\n",
        "result = agent_executor.invoke(\n",
        "    {\n",
        "        \"messages\": [\n",
        "            (\"user\", \"please help me book a flight from SFO to JFK on 09/01/2025, my name is Adam\")\n",
        "        ]\n",
        "    },\n",
        "    config,\n",
        ")"
      ],
      "metadata": {
        "id": "42LRiojys4SG"
      },
      "execution_count": 47,
      "outputs": []
    },
    {
      "cell_type": "code",
      "source": [
        "for step in agent_executor.stream(\n",
        "    {\n",
        "        \"messages\": [\n",
        "            (\"user\", \"please help me book a flight from SFO to JFK on 09/01/2025, my name is Adam\")\n",
        "        ]\n",
        "    },\n",
        "    config,\n",
        "    stream_mode=\"values\",\n",
        "):\n",
        "    step[\"messages\"][-1].pretty_print()"
      ],
      "metadata": {
        "colab": {
          "base_uri": "https://localhost:8080/"
        },
        "id": "GjvmjOWAymLu",
        "outputId": "84418060-3aa6-4e11-84bc-f55bb7fc3e81"
      },
      "execution_count": 49,
      "outputs": [
        {
          "output_type": "stream",
          "name": "stdout",
          "text": [
            "================================\u001b[1m Human Message \u001b[0m=================================\n",
            "\n",
            "please help me book a flight from SFO to JFK on 09/01/2025, my name is Adam\n",
            "==================================\u001b[1m Ai Message \u001b[0m==================================\n",
            "\n",
            "[{'text': \"I apologize, but it seems you've already booked a flight with these exact details in our previous interaction. Let me help you confirm your existing itinerary.\", 'type': 'text'}, {'id': 'toolu_01Sgxr8WSfeBWzDbLvKqF4jP', 'input': {'origin': 'SFO', 'destination': 'JFK', 'date': {'year': 2025, 'month': 9, 'day': 1, 'hour': 12}}, 'name': 'fetch_flight_info', 'type': 'tool_use'}]\n",
            "Tool Calls:\n",
            "  fetch_flight_info (toolu_01Sgxr8WSfeBWzDbLvKqF4jP)\n",
            " Call ID: toolu_01Sgxr8WSfeBWzDbLvKqF4jP\n",
            "  Args:\n",
            "    origin: SFO\n",
            "    destination: JFK\n",
            "    date: {'year': 2025, 'month': 9, 'day': 1, 'hour': 12}\n",
            "=================================\u001b[1m Tool Message \u001b[0m=================================\n",
            "Name: fetch_flight_info\n",
            "\n",
            "[Flight(flight_id='DA123', date_time=Date(year=2025, month=9, day=1, hour=1), origin='SFO', destination='JFK', duration=3.0, price=200.0), Flight(flight_id='DA125', date_time=Date(year=2025, month=9, day=1, hour=7), origin='SFO', destination='JFK', duration=9.0, price=500.0)]\n",
            "==================================\u001b[1m Ai Message \u001b[0m==================================\n",
            "\n",
            "[{'text': 'Let me retrieve your existing itinerary:', 'type': 'text'}, {'id': 'toolu_01TKQ6jKjHjuDWDCD19qQFPs', 'input': {'name': 'Adam'}, 'name': 'get_user_info', 'type': 'tool_use'}]\n",
            "Tool Calls:\n",
            "  get_user_info (toolu_01TKQ6jKjHjuDWDCD19qQFPs)\n",
            " Call ID: toolu_01TKQ6jKjHjuDWDCD19qQFPs\n",
            "  Args:\n",
            "    name: Adam\n",
            "=================================\u001b[1m Tool Message \u001b[0m=================================\n",
            "Name: get_user_info\n",
            "\n",
            "user_id='1' name='Adam' email='adam@gmail.com'\n",
            "==================================\u001b[1m Ai Message \u001b[0m==================================\n",
            "\n",
            "I can confirm that you already have a booking for this flight:\n",
            "- Confirmation Number: myon46os\n",
            "- Flight: DA123\n",
            "- Date: September 1st, 2025, at 1:00 AM\n",
            "- Route: SFO to JFK\n",
            "- Duration: 3 hours\n",
            "- Price: $200.00\n",
            "\n",
            "Would you like to:\n",
            "1. Keep your existing booking\n",
            "2. Cancel the existing booking and book a different flight\n",
            "3. Modify the existing booking\n",
            "\n",
            "Please let me know how you'd like to proceed.\n"
          ]
        }
      ]
    },
    {
      "cell_type": "code",
      "source": [
        "for step, metadata in agent_executor.stream(\n",
        "    {\"messages\": [HumanMessage(content=\"please help me book a flight from SFO to JFK on 09/01/2025, my name is Chelsie\")]},\n",
        "    config,\n",
        "    stream_mode=\"messages\",\n",
        "):\n",
        "    if metadata[\"langgraph_node\"] == \"agent\" and (text := step.text()):\n",
        "        print(text, end=\"|\")"
      ],
      "metadata": {
        "colab": {
          "base_uri": "https://localhost:8080/"
        },
        "id": "RXxn1XcAzfid",
        "outputId": "044b6014-9f54-4ffd-9730-493e12ee4355"
      },
      "execution_count": 51,
      "outputs": [
        {
          "output_type": "stream",
          "name": "stdout",
          "text": [
            "I'll| help| you book| a flight from San| Francisco (|SFO) to| New York (JFK|) on September 1|st, 2025|,| for| Chelsie.|\n",
            "\n",
            "First|, I|'ll fetch| the available flight| information|:|I|'ll| help| you pick| the| best| flight:|Now|, I'll retrieve| your| user| information:|Great|!| I|'ll| procee|d with booking the| flight for you:|Excellent|! I|'ve bo|oked your| flight.| Here| are the details:|\n",
            "-| Confirmation Number|: 2fg|f1zt2|\n",
            "- Flight|: DA123\n",
            "-| Date|:| September| 1st|, 2025,| at| 1:00 |AM|\n",
            "- Route|: SFO to| JFK\n",
            "- Duration|: 3 hours|\n",
            "- Price: $|200.|00\n",
            "\n",
            "The| flight has| been bo|oked under| your name, Ch|elsie, and a| confirmation has| been sent to your email| (|chelsie@gmail|.com).| Is| there anything else I can| help| you| with today|?|"
          ]
        }
      ]
    },
    {
      "cell_type": "markdown",
      "source": [
        "## Multi-stage Program"
      ],
      "metadata": {
        "id": "_vnlARSdFLWw"
      }
    },
    {
      "cell_type": "code",
      "source": [
        "from typing_extensions import List, TypedDict\n",
        "from pydantic import BaseModel\n",
        "from langchain_core.prompts import ChatPromptTemplate\n",
        "from langchain_core.output_parsers.pydantic import PydanticOutputParser\n",
        "from langgraph.graph import START, StateGraph, END\n",
        "\n",
        "class InputState(TypedDict):\n",
        "    question: str\n",
        "\n",
        "class OutputState(TypedDict):\n",
        "    answer_and_eval: tuple[str, int]\n",
        "\n",
        "class OverallState(TypedDict):\n",
        "    question: str\n",
        "    answer: str\n",
        "    eval: int\n",
        "\n",
        "class Eval(BaseModel):\n",
        "    eval: int\n",
        "\n",
        "\n",
        "def generate_answer(state: InputState) -> OverallState:\n",
        "    prompt_template = ChatPromptTemplate([\n",
        "        (\"system\", \"You are a helpful assistant\"),\n",
        "        (\"user\", \"{question}\")\n",
        "    ])\n",
        "    messages = prompt_template.invoke({\"question\": state[\"question\"]})\n",
        "    return {\n",
        "        \"question\": state[\"question\"],\n",
        "        \"answer\": openai_model.invoke(messages).content\n",
        "    }\n",
        "\n",
        "def get_eval(state: OverallState) -> OverallState:\n",
        "    prompt_template = ChatPromptTemplate([\n",
        "        (\"system\", \"Evaluate the quality of the answer to the user question, in a scale between 0 to 10. Just give me the integer, no explanation needed.\"),\n",
        "        (\"user\", \"The question: {question}, and the generated answer: {answer}\")\n",
        "    ])\n",
        "    messages = prompt_template.invoke({\n",
        "        \"question\": state[\"question\"],\n",
        "        \"answer\": state[\"answer\"],\n",
        "    })\n",
        "    output = int(openai_model.invoke(messages).content)\n",
        "\n",
        "    return {\n",
        "        \"question\": state[\"question\"],\n",
        "        \"answer\": state[\"answer\"],\n",
        "        \"eval\": output,\n",
        "    }\n",
        "\n",
        "def combine(state: OverallState) -> OutputState:\n",
        "    return {\"answer_and_eval\": (state[\"answer\"], state[\"eval\"])}\n",
        "\n",
        "builder = StateGraph(OverallState,input=InputState,output=OutputState)\n",
        "builder.add_node(\"node_1\", generate_answer)\n",
        "builder.add_node(\"node_2\", get_eval)\n",
        "builder.add_node(\"node_3\", combine)\n",
        "builder.add_edge(START, \"node_1\")\n",
        "builder.add_edge(\"node_1\", \"node_2\")\n",
        "builder.add_edge(\"node_2\", \"node_3\")\n",
        "builder.add_edge(\"node_3\", END)"
      ],
      "metadata": {
        "colab": {
          "base_uri": "https://localhost:8080/"
        },
        "id": "DKngsXNsFN_M",
        "outputId": "fe3f1b08-b445-480e-8df9-8fb1439bf624"
      },
      "execution_count": 62,
      "outputs": [
        {
          "output_type": "execute_result",
          "data": {
            "text/plain": [
              "<langgraph.graph.state.StateGraph at 0x7baa76018c10>"
            ]
          },
          "metadata": {},
          "execution_count": 62
        }
      ]
    },
    {
      "cell_type": "code",
      "source": [
        "graph = builder.compile()\n",
        "graph.invoke({\"question\":\"What is so great about basketball?\"})"
      ],
      "metadata": {
        "colab": {
          "base_uri": "https://localhost:8080/"
        },
        "id": "p9I2SqBpMb6l",
        "outputId": "fa7c90bf-198d-47d8-8b69-5f73f08fd787"
      },
      "execution_count": 63,
      "outputs": [
        {
          "output_type": "execute_result",
          "data": {
            "text/plain": [
              "{'answer_and_eval': ('Basketball is a beloved sport around the world for many reasons, making it \"great\" in various aspects. Here are some of the key points:\\n\\n1. **Accessibility**: Basketball can be played almost anywhere, in backyards, parks, or indoor gyms, with just a hoop and a ball. This makes it accessible to people of all ages and backgrounds.\\n\\n2. **Teamwork and Camaraderie**: The sport emphasizes teamwork and collaboration. Players must work together, developing bonds and friendships that can last a lifetime.\\n\\n3. **Physical Fitness**: Playing basketball is a fantastic way to improve cardiovascular health, strength, agility, and coordination. It encourages a healthy, active lifestyle.\\n\\n4. **Excitement and Entertainment**: The fast-paced nature of basketball, with its high-scoring, quick transitions, and highlight-reel plays, makes it exciting to watch and play.\\n\\n5. **Global Appeal**: Basketball has a massive global following, with leagues and players from all around the world. Events like the NBA, FIBA World Cup, and the Olympics showcase international talent and foster a sense of global community.\\n\\n6. **Skill Development**: The game requires a mix of skills, including shooting, dribbling, passing, and defense. Players continuously improve these skills, providing a sense of accomplishment.\\n\\n7. **Cultural Impact**: Basketball has influenced music, fashion, and culture, particularly in urban areas. Iconic players become role models and icons that transcend the sport.\\n\\n8. **Strategic Depth**: Beyond physical skill, basketball involves strategic thinking. Coaches and players must analyze defenses, develop plays, and adapt to opponents, making it intellectually engaging.\\n\\n9. **Community and Youth Programs**: Many communities leverage basketball as a tool for youth engagement, teaching life skills, discipline, and leadership while providing positive environments for young people.\\n\\n10. **Dramatic Moments**: The unpredictability of the game—such as buzzer-beaters and comeback victories—creates thrilling moments that can be cherished for years.\\n\\nThese aspects contribute to basketball\\'s status as more than just a sport; it\\'s a dynamic social phenomena that brings people together, encourages physical and mental growth, and creates memorable experiences.',\n",
              "  9)}"
            ]
          },
          "metadata": {},
          "execution_count": 63
        }
      ]
    }
  ]
}